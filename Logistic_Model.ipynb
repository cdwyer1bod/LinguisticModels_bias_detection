{
 "cells": [
  {
   "cell_type": "code",
   "execution_count": 15,
   "metadata": {},
   "outputs": [
    {
     "name": "stdout",
     "output_type": "stream",
     "text": [
      "(1921, 10) (166, 10) (263, 10)\n"
     ]
    }
   ],
   "source": [
    "import pandas as pd\n",
    "train = pd.read_csv(\"./5gram-edits-train-sents-clean.csv\")\n",
    "dev = pd.read_csv(\"./5gram-edits-dev-sents-clean.csv\")\n",
    "test = pd.read_csv(\"./5gram-edits-test-sents-clean.csv\")\n",
    "print(train.shape, dev.shape, test.shape)"
   ]
  },
  {
   "cell_type": "code",
   "execution_count": 39,
   "metadata": {},
   "outputs": [
    {
     "name": "stdout",
     "output_type": "stream",
     "text": [
      "654 66 27 100 11 181 102565\n"
     ]
    }
   ],
   "source": [
    "bias_lexicon_file = open('./bias-lexicon/bias-lexicon.txt','r')\n",
    "implicatives_file = open('./bias_related_lexicons/implicatives_karttunen1971.txt','r')\n",
    "assertives_file = open('./bias_related_lexicons/assertives_hooper1975.txt','r')\n",
    "factives_file = open('./bias_related_lexicons/factives_hooper1975.txt','r')\n",
    "hedges_file = open('./bias_related_lexicons/hedges_hyland2005.txt','r')\n",
    "other_file = open('./bias_related_lexicons/other_lexicons.txt','r')\n",
    "report_verbs_file = open('./bias_related_lexicons/report_verbs.txt','r')\n",
    "entailments_file = open('./entailments/reverb_global_clsf_all_tncf_lambda_0.1.txt','r')\n",
    "bias_lexicon = bias_lexicon_file.read().strip().split('\\n')\n",
    "assertives = assertives_file.read().strip().split('\\n')[7:]\n",
    "factives = factives_file.read().strip().split('\\n')[7:]\n",
    "hedges = hedges_file.read().strip().split('\\n')[7:]\n",
    "other_lexicon = other_file.read().strip().split('\\n')\n",
    "report_verbs = report_verbs_file.read().strip().split('\\n')[9:]\n",
    "entailments = entailments_file.read().strip().split('\\n')\n",
    "print(len(bias_lexicon), len(assertives), len(factives), len(hedges), \n",
    "      len(other_lexicon), len(report_verbs), len(entailments))"
   ]
  },
  {
   "cell_type": "code",
   "execution_count": 37,
   "metadata": {},
   "outputs": [
    {
     "data": {
      "text/plain": [
       "['Lexicon of subjective words from Riloff and Wiebe (2003)',\n",
       " 'http://mpqa.cs.pitt.edu/lexicons/subj_lexicon/',\n",
       " '',\n",
       " 'Opinion lexicon from Liu et al. (2005)',\n",
       " 'http://www.cs.uic.edu/~liub/FBS/opinion-lexicon-English.rar',\n",
       " '',\n",
       " 'Entailments from Berant et al. (2012)',\n",
       " 'http://u.cs.biu.ac.il/~nlp/downloads/ReverbLocalGlobal.html',\n",
       " '',\n",
       " 'Bias lexicon introduced in our paper',\n",
       " 'http://www.mpi-sws.org/~cristian/Biased_language.html']"
      ]
     },
     "execution_count": 37,
     "metadata": {},
     "output_type": "execute_result"
    }
   ],
   "source": [
    "other_lexicon"
   ]
  },
  {
   "cell_type": "code",
   "execution_count": null,
   "metadata": {},
   "outputs": [],
   "source": []
  }
 ],
 "metadata": {
  "kernelspec": {
   "display_name": "Python 3",
   "language": "python",
   "name": "python3"
  },
  "language_info": {
   "codemirror_mode": {
    "name": "ipython",
    "version": 3
   },
   "file_extension": ".py",
   "mimetype": "text/x-python",
   "name": "python",
   "nbconvert_exporter": "python",
   "pygments_lexer": "ipython3",
   "version": "3.6.4"
  }
 },
 "nbformat": 4,
 "nbformat_minor": 2
}
